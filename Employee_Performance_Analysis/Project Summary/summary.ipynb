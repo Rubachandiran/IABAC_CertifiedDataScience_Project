{
 "cells": [
  {
   "cell_type": "markdown",
   "id": "705d4862",
   "metadata": {},
   "source": [
    "## PROJECT SUMMARY"
   ]
  },
  {
   "cell_type": "markdown",
   "id": "0db77a76",
   "metadata": {},
   "source": [
    "### REQUIREMENT"
   ]
  },
  {
   "cell_type": "markdown",
   "id": "f451ddd3",
   "metadata": {},
   "source": [
    "###### Software\n",
    "1. Python : for data analysis\n",
    "2. Jupyter notebooks : for documentation and analysis \n",
    "3. Scikit-learn : for ML models \n",
    "4. Pandas : for data manipulation\n",
    "5. Numpy : for mathematical computations\n",
    "6. Pickle : for saving the model\n",
    "7. Matplotlib : for data visualization\n",
    "8. Seaborn : for visualizing relations in the data"
   ]
  },
  {
   "cell_type": "markdown",
   "id": "466bff53",
   "metadata": {},
   "source": [
    "###### Hardware\n",
    "There is no specific hardware requirements, but cloud-based compute resources may be used for model training."
   ]
  },
  {
   "cell_type": "markdown",
   "id": "686f3bc7",
   "metadata": {},
   "source": [
    "###### Tools\n",
    "PowerBI is used to visualize and analyze data and the relationships between columns"
   ]
  },
  {
   "cell_type": "markdown",
   "id": "4f3b914c",
   "metadata": {},
   "source": [
    "### ANALYSIS"
   ]
  },
  {
   "cell_type": "markdown",
   "id": "0350e7b2",
   "metadata": {},
   "source": [
    "###### Exploratory Data Analysis\n",
    "1. Missing values : There is no missing values in the data\n",
    "2. Correlation : There is no feature which is highly correlated with target or other features"
   ]
  },
  {
   "cell_type": "markdown",
   "id": "29169641",
   "metadata": {},
   "source": [
    "###### Data Preprocessing\n",
    "1. Normalization : We have scaled the continuous features between 0 and 1\n",
    "2. Encoding : We have encoded the categorical features using LabelEncoder, OneHotEncoder and OrdinalEncoder \n",
    "3. Outliers : According to boxplots, it shows like there are some outliers. But really they are not outliers. So we didn't handled outliers"
   ]
  },
  {
   "cell_type": "markdown",
   "id": "9a1b681a",
   "metadata": {},
   "source": [
    "###### Feature Engineering\n",
    "There is no high correlation between the features. So we didn't removed any features"
   ]
  },
  {
   "cell_type": "markdown",
   "id": "d89f2338",
   "metadata": {},
   "source": [
    "### SUMMARY"
   ]
  },
  {
   "cell_type": "markdown",
   "id": "bf52fce6",
   "metadata": {},
   "source": [
    "1. There is no feature which is highly related to target\n",
    "2. Random Forest model performed better than other models. Random Forest performed 93% f1_score"
   ]
  }
 ],
 "metadata": {
  "kernelspec": {
   "display_name": "Python 3 (ipykernel)",
   "language": "python",
   "name": "python3"
  },
  "language_info": {
   "codemirror_mode": {
    "name": "ipython",
    "version": 3
   },
   "file_extension": ".py",
   "mimetype": "text/x-python",
   "name": "python",
   "nbconvert_exporter": "python",
   "pygments_lexer": "ipython3",
   "version": "3.11.5"
  }
 },
 "nbformat": 4,
 "nbformat_minor": 5
}
