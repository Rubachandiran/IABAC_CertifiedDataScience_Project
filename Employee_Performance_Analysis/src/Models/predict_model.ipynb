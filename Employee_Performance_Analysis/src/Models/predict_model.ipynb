{
 "cells": [
  {
   "cell_type": "markdown",
   "id": "75a88fdc",
   "metadata": {},
   "source": [
    "## MODEL PREDICTION "
   ]
  },
  {
   "cell_type": "markdown",
   "id": "bc792d2d",
   "metadata": {},
   "source": [
    "### IMPORTING LIBRARIES"
   ]
  },
  {
   "cell_type": "code",
   "execution_count": 8,
   "id": "81caff47",
   "metadata": {},
   "outputs": [],
   "source": [
    "# Importing pickle\n",
    "import pickle\n",
    "\n",
    "# Importing import_ipynb\n",
    "import import_ipynb\n",
    "\n",
    "# Loading data_preprocessing file\n",
    "from data_preprocessing import *"
   ]
  },
  {
   "cell_type": "markdown",
   "id": "c2a98c0c",
   "metadata": {},
   "source": [
    "### PREDICTION"
   ]
  },
  {
   "cell_type": "code",
   "execution_count": 9,
   "id": "e2147b98",
   "metadata": {},
   "outputs": [],
   "source": [
    "# Loading preprocessor from the file 'pipeline.pkl'\n",
    "with open('pipeline.pkl','rb') as file:\n",
    "    preprocessor=pickle.load(file)"
   ]
  },
  {
   "cell_type": "code",
   "execution_count": 10,
   "id": "44a85f08",
   "metadata": {},
   "outputs": [],
   "source": [
    "# Loading final model from the file 'final_model.pkl'\n",
    "with open('final_model.pkl','rb') as file:\n",
    "    final_model=pickle.load(file)"
   ]
  },
  {
   "cell_type": "code",
   "execution_count": 11,
   "id": "6b2e2b9e",
   "metadata": {},
   "outputs": [],
   "source": [
    "# Creating function for predicting the target\n",
    "def predict(input_list):\n",
    "    input_array=np.array(input_list).reshape(1,-1) # converting list into array and reshaping\n",
    "    input_columns=['EmpNumber','Age','Gender','EducationBackground','MaritalStatus','EmpDepartment','EmpJobRole','BusinessTravelFrequency','DistanceFromHome','EmpEducationLevel','EmpEnvironmentSatisfaction','EmpHourlyRate','EmpJobInvolvement','EmpJobLevel','EmpJobSatisfaction','NumCompaniesWorked','OverTime','EmpLastSalaryHikePercent','EmpRelationshipSatisfaction','TotalWorkExperienceInYears','TrainingTimesLastYear','EmpWorkLifeBalance','ExperienceYearsAtThisCompany','ExperienceYearsInCurrentRole','YearsSinceLastPromotion','YearsWithCurrManager','Attrition',]\n",
    "    input_df=pd.DataFrame(input_array,columns=input_columns) # coverting the array into dataframe\n",
    "    X=preprocessor.transform(input_df) # Transforming the dataframe by preprocessor\n",
    "    prediction=final_model.predict(X) # Predicting the transformed data by final_model\n",
    "    print('Performance Rating of the Employee is : ',prediction[0])"
   ]
  },
  {
   "cell_type": "code",
   "execution_count": 12,
   "id": "0418ae99",
   "metadata": {},
   "outputs": [
    {
     "name": "stdout",
     "output_type": "stream",
     "text": [
      "Performance Rating of the Employee is :  4\n"
     ]
    }
   ],
   "source": [
    "# Predicting the Input 1\n",
    "input_list1=['E1001007', 40, 'Male', 'Life Sciences', 'Married', 'Sales',\n",
    "       'Sales Executive', 'Travel_Frequently', 5, 4, 4, 48, 2, 3, 1, 5,\n",
    "       'Yes', 21, 3, 20, 2, 3, 18, 13, 1, 12, 'No']\n",
    "predict(input_list1)"
   ]
  },
  {
   "cell_type": "code",
   "execution_count": 13,
   "id": "95253b26",
   "metadata": {},
   "outputs": [
    {
     "name": "stdout",
     "output_type": "stream",
     "text": [
      "Performance Rating of the Employee is :  3\n"
     ]
    }
   ],
   "source": [
    "# Predicting the Input 2\n",
    "input_list2=['E1001000', 32, 'Male', 'Marketing', 'Single', 'Sales',\n",
    "       'Sales Executive', 'Travel_Rarely', 10, 3, 4, 55, 3, 2, 4, 1, 'No',\n",
    "       12, 4, 10, 2, 2, 10, 7, 0, 8, 'No']\n",
    "predict(input_list2)"
   ]
  },
  {
   "cell_type": "code",
   "execution_count": 14,
   "id": "240af577",
   "metadata": {},
   "outputs": [
    {
     "name": "stdout",
     "output_type": "stream",
     "text": [
      "Performance Rating of the Employee is :  3\n"
     ]
    }
   ],
   "source": [
    "# Predicting the Input 3\n",
    "input_list3=['E1001223', 48, 'Male', 'Medical', 'Married', 'Data Science',\n",
    "       'Data Scientist', 'Travel_Rarely', 20, 4, 4, 51, 3, 1, 3, 4, 'No',\n",
    "       17, 1, 13, 2, 2, 0, 0, 0, 0, 'No']\n",
    "predict(input_list3)"
   ]
  }
 ],
 "metadata": {
  "kernelspec": {
   "display_name": "Python 3 (ipykernel)",
   "language": "python",
   "name": "python3"
  },
  "language_info": {
   "codemirror_mode": {
    "name": "ipython",
    "version": 3
   },
   "file_extension": ".py",
   "mimetype": "text/x-python",
   "name": "python",
   "nbconvert_exporter": "python",
   "pygments_lexer": "ipython3",
   "version": "3.11.5"
  }
 },
 "nbformat": 4,
 "nbformat_minor": 5
}
